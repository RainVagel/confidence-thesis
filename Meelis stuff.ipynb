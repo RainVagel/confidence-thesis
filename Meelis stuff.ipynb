{
 "cells": [
  {
   "cell_type": "code",
   "execution_count": 2,
   "metadata": {},
   "outputs": [],
   "source": [
    "from sklearn import datasets\n",
    "import numpy as np\n",
    "from tensorflow.keras.models import Sequential\n",
    "from tensorflow.keras.layers import Dense, Activation\n",
    "from tensorflow.keras.optimizers import Adam\n",
    "from tensorflow.keras.constraints import Constraint\n",
    "from tensorflow.keras.layers import Layer, InputSpec, ReLU\n",
    "from tensorflow.keras.initializers import Ones\n",
    "from tensorflow.keras.losses import CategoricalCrossentropy\n",
    "from tensorflow.keras.regularizers import l2\n",
    "import tensorflow.keras.backend as K\n",
    "import tensorflow as tf\n",
    "import matplotlib.pyplot as plt\n",
    "import matplotlib"
   ]
  },
  {
   "cell_type": "code",
   "execution_count": 156,
   "metadata": {},
   "outputs": [],
   "source": [
    "class MAct(Layer):\n",
    "\n",
    "    def __init__(self, **kwargs):\n",
    "        super(MAct, self).__init__(**kwargs)\n",
    "        self.supports_masking = True\n",
    "\n",
    "    def build(self, input_shape):\n",
    "        self.c = self.add_weight(name=\"c\",\n",
    "                                shape=(input_shape[1],),\n",
    "                                initializer='zeros',\n",
    "                                trainable=True) # Initialiseerida c ühtedeks / nullideks\n",
    "        self.b = self.add_weight(name=\"b\",\n",
    "                                shape=(input_shape[1],),\n",
    "                                initializer='zeros',\n",
    "                                trainable=True) # Initialiseerida b nullideks\n",
    "        super(MAct, self).build(input_shape)\n",
    "        \n",
    "\n",
    "    def call(self, inputs):\n",
    "        first_exp = tf.exp(self.c - tf.square(inputs))\n",
    "\n",
    "        p = (first_exp + tf.exp(self.b)) / tf.reduce_sum(first_exp + tf.exp(self.b))\n",
    "        return p\n",
    "\n",
    "    def compute_output_shape(self, input_shape):\n",
    "        return input_shape"
   ]
  },
  {
   "cell_type": "code",
   "execution_count": 197,
   "metadata": {},
   "outputs": [],
   "source": [
    "model = Sequential([\n",
    "    Dense(100,input_shape=(2,)),\n",
    "    Activation('selu'),\n",
    "    Dense(100),\n",
    "    Activation('selu'),\n",
    "    Dense(2),\n",
    "    MAct(),\n",
    "    #Activation('softmax')\n",
    "])\n",
    "\n",
    "optimizer = Adam(learning_rate=0.0015)"
   ]
  },
  {
   "cell_type": "code",
   "execution_count": 198,
   "metadata": {},
   "outputs": [],
   "source": [
    "dim = 2\n",
    "# More noise in the moons makes the task harder\n",
    "X, y = datasets.make_moons(n_samples=2000, shuffle=True, noise=.02)\n",
    "# Rescale and shift the dataset to better fit into zero-one box\n",
    "X = (X + 1.6) / 4\n",
    "X[:, 0] = X[:, 0] - 0.035\n",
    "X[:, 1] = (X[:, 1] - 0.17) * 1.75"
   ]
  },
  {
   "cell_type": "code",
   "execution_count": 199,
   "metadata": {},
   "outputs": [],
   "source": [
    "X_test, y_test = datasets.make_moons(n_samples=400, shuffle=True, noise=.02)\n",
    "X_test = (X_test + 1.6) / 4\n",
    "X_test[:, 0] = X_test[:, 0] - 0.035\n",
    "X_test[:, 1] = (X_test[:, 1] - 0.17) * 1.75"
   ]
  },
  {
   "cell_type": "code",
   "execution_count": 200,
   "metadata": {},
   "outputs": [],
   "source": [
    "y = tf.one_hot(y, dim)"
   ]
  },
  {
   "cell_type": "code",
   "execution_count": 201,
   "metadata": {},
   "outputs": [],
   "source": [
    "def cross_ent(probs, y):\n",
    "    #losses = tf.nn.softmax_cross_entropy_with_logits(logits=logits, labels=y) # Tavaline CE\n",
    "    cce = CategoricalCrossentropy()\n",
    "    losses = cce(probs, y)\n",
    "    return tf.reduce_mean(losses)\n",
    "\n",
    "\n",
    "def max_conf(probs):\n",
    "    y = tf.argmax(probs, 1)\n",
    "    y = tf.one_hot(y, dim)\n",
    "    #losses = -tf.nn.softmax_cross_entropy_with_logits(logits=logits, labels=y) # Tavaline CE\n",
    "    cce = CategoricalCrossentropy()\n",
    "    losses = -cce(probs, y)\n",
    "    return tf.reduce_mean(losses)\n",
    "\n",
    "# Meelise puhul lihtsalt tavaline CE\n",
    "# Testida tavalise Softmaxiga"
   ]
  },
  {
   "cell_type": "code",
   "execution_count": 202,
   "metadata": {},
   "outputs": [],
   "source": [
    "def gen_adv(x):\n",
    "    eps = 0.025\n",
    "    n_iters = 4\n",
    "    step_size = 0.02\n",
    "\n",
    "    unif = tf.random.uniform(minval=-eps, maxval=eps, shape=tf.shape(x))\n",
    "    x_adv = tf.clip_by_value(x + unif, 0., 1.)\n",
    "    \n",
    "    for i in range(n_iters):\n",
    "        x_adv = tf.Variable(x_adv)\n",
    "        with tf.GradientTape() as tape:\n",
    "            loss = max_conf(model(x_adv))\n",
    "            grad = tape.gradient(loss, x_adv)\n",
    "            g = tf.sign(grad)\n",
    "\n",
    "        x_adv_start = x_adv + step_size*g\n",
    "        x_adv = tf.clip_by_value(x_adv, 0., 1.)\n",
    "        delta = x_adv - x_adv_start\n",
    "        delta = tf.clip_by_value(delta, -eps, eps)\n",
    "        x_adv = x_adv_start + delta\n",
    "\n",
    "    return x_adv"
   ]
  },
  {
   "cell_type": "code",
   "execution_count": 203,
   "metadata": {},
   "outputs": [],
   "source": [
    "acet = True"
   ]
  },
  {
   "cell_type": "code",
   "execution_count": 204,
   "metadata": {},
   "outputs": [],
   "source": [
    "if acet:\n",
    "    n_iter = 900\n",
    "else:\n",
    "    n_iter = 900"
   ]
  },
  {
   "cell_type": "code",
   "execution_count": 205,
   "metadata": {},
   "outputs": [
    {
     "name": "stdout",
     "output_type": "stream",
     "text": [
      "WARNING:tensorflow:Layer dense_52 is casting an input tensor from dtype float64 to the layer's dtype of float32, which is new behavior in TensorFlow 2.  The layer has dtype float32 because it's dtype defaults to floatx.\n",
      "\n",
      "If you intended to run this layer in float32, you can safely ignore this warning. If in doubt, this warning is likely only an issue if you are porting a TensorFlow 1.X model to TensorFlow 2.\n",
      "\n",
      "To change all layers to have dtype float64 by default, call `tf.keras.backend.set_floatx('float64')`. To change just this layer, pass dtype='float64' to the layer constructor. If you are the author of this layer, you can disable autocasting by passing autocast=False to the base Layer constructor.\n",
      "\n",
      "Iter 100: loss_main=0.0029721148 loss_acet=-0.002 err=12.20%\n",
      "Iter 200: loss_main=0.0027133182 loss_acet=-0.002 err=12.15%\n",
      "Iter 300: loss_main=0.0023474060 loss_acet=-0.001 err=11.00%\n",
      "Iter 400: loss_main=0.0019001442 loss_acet=-0.001 err=11.90%\n",
      "Iter 500: loss_main=0.0015990272 loss_acet=-0.001 err=15.05%\n",
      "Iter 600: loss_main=0.0013676138 loss_acet=-0.001 err=16.25%\n",
      "Iter 700: loss_main=0.0011837500 loss_acet=-0.001 err=10.95%\n",
      "Iter 800: loss_main=0.0010610516 loss_acet=-0.001 err=11.25%\n",
      "Iter 900: loss_main=0.0009591728 loss_acet=-0.001 err=12.10%\n"
     ]
    }
   ],
   "source": [
    "# Custom training cycle going through the entire dataset\n",
    "for epoch in range(1, n_iter+1):\n",
    "    X_noise = tf.random.uniform([2*X.shape[0], X.shape[1]])\n",
    "    # If we use the ACET method, then adversarial noise will be generated\n",
    "    if acet:\n",
    "        X_noise = gen_adv(X_noise)\n",
    "    # Context used to calculate the gradients of the model\n",
    "    with tf.GradientTape() as tape:\n",
    "        logits = model(X)\n",
    "        logits_noise = model(X_noise)\n",
    "        loss_main = cross_ent(logits, y)\n",
    "        loss_acet = acet * max_conf(logits_noise)\n",
    "        loss = loss_main + loss_acet\n",
    "    grads = tape.gradient(loss, model.trainable_variables)\n",
    "    optimizer.apply_gradients(zip(grads, model.trainable_variables))\n",
    "    if epoch % 100  == 0:\n",
    "        train_err = np.mean(logits.numpy().argmax(1) != y.numpy().argmax(1))\n",
    "        print(\"Iter {:03d}: loss_main={:.10f} loss_acet={:.3f} err={:.2%}\"\n",
    "              .format(epoch, loss_main, loss_acet, train_err))"
   ]
  },
  {
   "cell_type": "code",
   "execution_count": 206,
   "metadata": {},
   "outputs": [
    {
     "name": "stdout",
     "output_type": "stream",
     "text": [
      "Test set accuracy: 81.500%\n"
     ]
    }
   ],
   "source": [
    "test_accuracy = tf.keras.metrics.Accuracy()\n",
    "\n",
    "\n",
    "for idx in range(len(X_test)):\n",
    "    sample_test = X_test[idx]\n",
    "    target_test = y_test[idx]\n",
    "\n",
    "    # Adding batch dim since batch=1\n",
    "    sample_test = np.expand_dims(sample_test, axis=0)\n",
    "    target_test = np.expand_dims(target_test, axis=0)\n",
    "\n",
    "    # To tensors\n",
    "    sample_test = K.constant(sample_test)\n",
    "    target_test = K.constant(target_test)\n",
    "        \n",
    "    logits = model(sample_test)\n",
    "    prediction = tf.argmax(logits, axis=1, output_type=tf.int32)\n",
    "    #print(prediction.shape)\n",
    "    #print(target_test.shape)\n",
    "    test_accuracy(prediction, target_test)\n",
    "    \n",
    "\n",
    "print(\"Test set accuracy: {:.3%}\".format(test_accuracy.result()))"
   ]
  },
  {
   "cell_type": "code",
   "execution_count": 129,
   "metadata": {},
   "outputs": [],
   "source": [
    "def plot(model, plot_min, plot_max, max_prob):\n",
    "    n_grid = 200\n",
    "    x_plot = np.linspace(plot_min, plot_max, n_grid)\n",
    "    y_plot = np.linspace(plot_min, plot_max, n_grid)\n",
    "    \n",
    "    points = []\n",
    "    for xx in x_plot:\n",
    "        for yy in y_plot:\n",
    "            points.append((yy, xx))\n",
    "    points = np.array(points)\n",
    "    \n",
    "    logits = model(points)\n",
    "    probs = tf.nn.softmax(logits).numpy()\n",
    "    if max_prob:\n",
    "        z_plot = probs.max(1)\n",
    "    else:\n",
    "        z_plot = probs[:, 0]\n",
    "    z_plot = z_plot.reshape(len(x_plot), len(y_plot)) * 100\n",
    "    \n",
    "    ax = plt.gca()\n",
    "    \n",
    "    vmax = 100\n",
    "    vmin = 50 if max_prob else 0\n",
    "    plt.contourf(x_plot, y_plot, z_plot, levels=np.linspace(50, 100, 50))\n",
    "    cbar = plt.colorbar(ticks=np.linspace(vmin, vmax, 6))\n",
    "    \n",
    "    cbar.ax.set_title('confidence', fontsize=12, pad=12)\n",
    "    cbar.set_ticklabels(['50%', '60%', '70%', '80%', '90%', '100%'])\n",
    "    \n",
    "    y_np = np.array(y)\n",
    "    X0 = X[y_np.argmax(1)==0]\n",
    "    X1 = X[y_np.argmax(1)==1]\n",
    "    plt.scatter(X0[:, 0], X0[:, 1], s=20, edgecolors='red', facecolor='None',\n",
    "                marker='o', linewidths=0.2)\n",
    "    plt.scatter(X1[:, 0], X1[:, 1], s=20, edgecolors='green', facecolor='None',\n",
    "                marker='s', linewidths=0.2)\n",
    "    plt.xlim([plot_min, plot_max])\n",
    "    plt.ylim([plot_min, plot_max])\n",
    "    \n",
    "    margin = 0.01\n",
    "    rect = matplotlib.patches.Rectangle((-margin, -margin), 1.0+2*margin, 1.0+2*margin, \n",
    "                                        linewidth=1.5, color='white', fill=False)\n",
    "    ax.add_patch(rect)\n",
    "    \n",
    "    plt.gca().set_aspect('equal', adjustable='box')\n",
    "    plt.savefig('plots/dense_100_selu_dense_100_selu_dense2_meelis_acet={}_{:.1f}_{:.1f}_max_prob={}.pdf'.format(\n",
    "        acet, plot_min, plot_max, max_prob), transparent=True)\n",
    "    plt.show()"
   ]
  },
  {
   "cell_type": "code",
   "execution_count": 130,
   "metadata": {},
   "outputs": [
    {
     "data": {
      "image/png": "[encoded data removed]",
      "text/plain": [
       "<Figure size 432x288 with 2 Axes>"
      ]
     },
     "metadata": {
      "needs_background": "light"
     },
     "output_type": "display_data"
    },
    {
     "data": {
      "image/png": "[encoded data removed]",
      "text/plain": [
       "<Figure size 432x288 with 2 Axes>"
      ]
     },
     "metadata": {
      "needs_background": "light"
     },
     "output_type": "display_data"
    },
    {
     "data": {
      "image/png": "[encoded data removed]",
      "text/plain": [
       "<Figure size 432x288 with 2 Axes>"
      ]
     },
     "metadata": {
      "needs_background": "light"
     },
     "output_type": "display_data"
    },
    {
     "data": {
      "image/png": "[encoded data removed]",
      "text/plain": [
       "<Figure size 432x288 with 2 Axes>"
      ]
     },
     "metadata": {
      "needs_background": "light"
     },
     "output_type": "display_data"
    }
   ],
   "source": [
    "plot(model, 0.0, 1.0, max_prob=True)\n",
    "plot(model, -2.0, 3.0, max_prob=True)\n",
    "plot(model, -5.0, 6.0, max_prob=True)\n",
    "plot(model, -10.0, 10.0, max_prob=True)"
   ]
  },
  {
   "cell_type": "code",
   "execution_count": 134,
   "metadata": {},
   "outputs": [
    {
     "name": "stdout",
     "output_type": "stream",
     "text": [
      "c: [0.9785716 0.9210024]\n",
      "b: [-0.9543602 -0.9543602]\n"
     ]
    }
   ],
   "source": [
    "weights = model.layers[-1].get_weights()\n",
    "print('c:', weights[0])\n",
    "print('b:', weights[1])"
   ]
  },
  {
   "cell_type": "code",
   "execution_count": null,
   "metadata": {},
   "outputs": [],
   "source": []
  }
 ],
 "metadata": {
  "kernelspec": {
   "display_name": "Python 3",
   "language": "python",
   "name": "python3"
  },
  "language_info": {
   "codemirror_mode": {
    "name": "ipython",
    "version": 3
   },
   "file_extension": ".py",
   "mimetype": "text/x-python",
   "name": "python",
   "nbconvert_exporter": "python",
   "pygments_lexer": "ipython3",
   "version": "3.7.4"
  }
 },
 "nbformat": 4,
 "nbformat_minor": 2
}
